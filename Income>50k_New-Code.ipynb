{
  "nbformat": 4,
  "nbformat_minor": 0,
  "metadata": {
    "colab": {
      "provenance": [],
      "authorship_tag": "ABX9TyO8WFJ17RH1r3Ph+SSIkxft",
      "include_colab_link": true
    },
    "kernelspec": {
      "name": "python3",
      "display_name": "Python 3"
    },
    "language_info": {
      "name": "python"
    }
  },
  "cells": [
    {
      "cell_type": "markdown",
      "metadata": {
        "id": "view-in-github",
        "colab_type": "text"
      },
      "source": [
        "<a href=\"https://colab.research.google.com/github/todd-jang/CP2/blob/main/Income%3E50k_New-Code.ipynb\" target=\"_parent\"><img src=\"https://colab.research.google.com/assets/colab-badge.svg\" alt=\"Open In Colab\"/></a>"
      ]
    },
    {
      "cell_type": "code",
      "execution_count": null,
      "metadata": {
        "id": "nRdZebnwukKj"
      },
      "outputs": [],
      "source": [
        "!pip install --upgrade mxnet\n",
        "!pip install autogluon"
      ]
    },
    {
      "cell_type": "code",
      "source": [
        "import autogluon as ag\n",
        "from autogluon import TabularPrediction as task"
      ],
      "metadata": {
        "id": "uftf7iEuu0Ki"
      },
      "execution_count": null,
      "outputs": []
    },
    {
      "cell_type": "markdown",
      "source": [
        "dataset download"
      ],
      "metadata": {
        "id": "T5m376_PvCTP"
      }
    },
    {
      "cell_type": "code",
      "source": [
        "train_data=task.Dataset(file_path='https://autogluon.s3.amazoaws.com/datasets/Inc/train.csv')\n",
        "train_data=train_data.head(500) # For Demo\n",
        "print(train_data.head())"
      ],
      "metadata": {
        "id": "h_5hdpk4vI2k"
      },
      "execution_count": null,
      "outputs": []
    },
    {
      "cell_type": "markdown",
      "source": [
        "label field 지정"
      ],
      "metadata": {
        "id": "XgWVZKrYv_dA"
      }
    },
    {
      "cell_type": "code",
      "source": [
        "label_column='class'\n",
        "print('Summary of class variables: \\n', train_data[label_column].describe())"
      ],
      "metadata": {
        "id": "kBS7tpmUwGTI"
      },
      "execution_count": null,
      "outputs": []
    },
    {
      "cell_type": "markdown",
      "source": [
        "Model 학습"
      ],
      "metadata": {
        "id": "yxEY2oZdwfb2"
      }
    },
    {
      "cell_type": "code",
      "source": [
        "%% time\n",
        "dir='agModels-precdict Class'\n",
        "predictor=task.fit (train_data=train_data,\n",
        "                    label=label_column,\n",
        "                    output_directory=dir)"
      ],
      "metadata": {
        "id": "-OJMdmfLwifW"
      },
      "execution_count": null,
      "outputs": []
    },
    {
      "cell_type": "code",
      "source": [
        "! tree -d {dir}"
      ],
      "metadata": {
        "id": "IyIPL1rAxM0H"
      },
      "execution_count": null,
      "outputs": []
    },
    {
      "cell_type": "markdown",
      "source": [
        "모델 성능확인"
      ],
      "metadata": {
        "id": "zNnzrWfcxT1T"
      }
    },
    {
      "cell_type": "code",
      "source": [
        "predictor.model_performance\n",
        "leaderboard=predictor.leaderboard()\n",
        "leaderboard"
      ],
      "metadata": {
        "id": "p3zXfnsfxW33"
      },
      "execution_count": null,
      "outputs": []
    },
    {
      "cell_type": "markdown",
      "source": [
        "테스트 데이터로 모델 성능평가하기"
      ],
      "metadata": {
        "id": "812-6BXjxtE6"
      }
    },
    {
      "cell_type": "code",
      "source": [
        "test_data=task.Dataset(file_path='https://autogluon.s3.amazoaws.com/datasets/Inc/train.csv')\n",
        "y_test=test_data[label_column]\n",
        "test_data_nolab=test_data.drop(labels=[label_column,axis=1])\n",
        "print(test_data_nolab.head())"
      ],
      "metadata": {
        "id": "LvCcdLa9x1Nr"
      },
      "execution_count": null,
      "outputs": []
    },
    {
      "cell_type": "markdown",
      "source": [
        "학습모델 읽어오기/"
      ],
      "metadata": {
        "id": "gwaW4iDPypdN"
      }
    },
    {
      "cell_type": "code",
      "source": [
        "leaderboard=predictor.leaderboard()\n",
        "leaderboard\n",
        "load_predictor=task.load(dir)"
      ],
      "metadata": {
        "id": "E_wVgHHXy32s"
      },
      "execution_count": null,
      "outputs": []
    },
    {
      "cell_type": "markdown",
      "source": [
        "학습모델 평가"
      ],
      "metadata": {
        "id": "zM7wRut0zI3U"
      }
    },
    {
      "cell_type": "code",
      "source": [
        "y_pred=load_predictot.predict(test_data_nolab)\n",
        "print('Predictions: {}'.format(y_pred))\n",
        "pref=loaded_predictor.evaluate_predictions(y_test=y_test,y_pred=y_pred,auxiliary_metric=true)"
      ],
      "metadata": {
        "id": "jgTvV_x6zMX7"
      },
      "execution_count": null,
      "outputs": []
    },
    {
      "cell_type": "markdown",
      "source": [
        "사이킷런 모델평가 "
      ],
      "metadata": {
        "id": "7DjzLLjT0XxK"
      }
    },
    {
      "cell_type": "code",
      "source": [
        "from sklearn.metrics import confusion_matrix\n",
        "confusion_matrix(y_test,y_pred)\n"
      ],
      "metadata": {
        "id": "WOEFEdlv0f04"
      },
      "execution_count": null,
      "outputs": []
    },
    {
      "cell_type": "code",
      "source": [
        "from sklearn.metrics import classification_report\n",
        "print(classification_report(y_test,y_pred, target_name=['<=50K','>50K']))"
      ],
      "metadata": {
        "id": "DklYSAeC0yQT"
      },
      "execution_count": null,
      "outputs": []
    }
  ]
}